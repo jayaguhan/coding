{
 "cells": [
  {
   "cell_type": "code",
   "execution_count": 1,
   "id": "53ebbb4f",
   "metadata": {},
   "outputs": [
    {
     "ename": "SyntaxError",
     "evalue": "invalid decimal literal (187617390.py, line 1)",
     "output_type": "error",
     "traceback": [
      "\u001b[1;36m  Cell \u001b[1;32mIn [1], line 1\u001b[1;36m\u001b[0m\n\u001b[1;33m    5d=9\u001b[0m\n\u001b[1;37m    ^\u001b[0m\n\u001b[1;31mSyntaxError\u001b[0m\u001b[1;31m:\u001b[0m invalid decimal literal\n"
     ]
    }
   ],
   "source": [
    "5d=9"
   ]
  },
  {
   "cell_type": "code",
   "execution_count": 4,
   "id": "665be056",
   "metadata": {},
   "outputs": [],
   "source": [
    "A=6"
   ]
  },
  {
   "cell_type": "code",
   "execution_count": 5,
   "id": "8be1dce1",
   "metadata": {},
   "outputs": [
    {
     "ename": "SyntaxError",
     "evalue": "invalid syntax (1995620248.py, line 1)",
     "output_type": "error",
     "traceback": [
      "\u001b[1;36m  Cell \u001b[1;32mIn [5], line 1\u001b[1;36m\u001b[0m\n\u001b[1;33m    $A=3\u001b[0m\n\u001b[1;37m    ^\u001b[0m\n\u001b[1;31mSyntaxError\u001b[0m\u001b[1;31m:\u001b[0m invalid syntax\n"
     ]
    }
   ],
   "source": [
    "$A=3"
   ]
  },
  {
   "cell_type": "code",
   "execution_count": 6,
   "id": "8a772d93",
   "metadata": {},
   "outputs": [],
   "source": [
    "d=5"
   ]
  },
  {
   "cell_type": "code",
   "execution_count": 7,
   "id": "8675520d",
   "metadata": {},
   "outputs": [],
   "source": [
    "(a)=6"
   ]
  },
  {
   "cell_type": "code",
   "execution_count": 8,
   "id": "8bd8c1af",
   "metadata": {},
   "outputs": [],
   "source": [
    "d3=95"
   ]
  },
  {
   "cell_type": "code",
   "execution_count": 9,
   "id": "f4380765",
   "metadata": {},
   "outputs": [
    {
     "ename": "SyntaxError",
     "evalue": "invalid syntax (1787044811.py, line 1)",
     "output_type": "error",
     "traceback": [
      "\u001b[1;36m  Cell \u001b[1;32mIn [9], line 1\u001b[1;36m\u001b[0m\n\u001b[1;33m    &3=67\u001b[0m\n\u001b[1;37m    ^\u001b[0m\n\u001b[1;31mSyntaxError\u001b[0m\u001b[1;31m:\u001b[0m invalid syntax\n"
     ]
    }
   ],
   "source": [
    "&3=67"
   ]
  },
  {
   "cell_type": "code",
   "execution_count": 10,
   "id": "01ceb68f",
   "metadata": {},
   "outputs": [
    {
     "ename": "SyntaxError",
     "evalue": "invalid decimal literal (3611617974.py, line 1)",
     "output_type": "error",
     "traceback": [
      "\u001b[1;36m  Cell \u001b[1;32mIn [10], line 1\u001b[1;36m\u001b[0m\n\u001b[1;33m    4A=6\u001b[0m\n\u001b[1;37m    ^\u001b[0m\n\u001b[1;31mSyntaxError\u001b[0m\u001b[1;31m:\u001b[0m invalid decimal literal\n"
     ]
    }
   ],
   "source": [
    "4A=6"
   ]
  },
  {
   "cell_type": "code",
   "execution_count": 11,
   "id": "9c7778a5",
   "metadata": {},
   "outputs": [],
   "source": [
    "A_E=8"
   ]
  },
  {
   "cell_type": "code",
   "execution_count": 12,
   "id": "01cc12ee",
   "metadata": {},
   "outputs": [
    {
     "ename": "NameError",
     "evalue": "name 's' is not defined",
     "output_type": "error",
     "traceback": [
      "\u001b[1;31m---------------------------------------------------------------------------\u001b[0m",
      "\u001b[1;31mNameError\u001b[0m                                 Traceback (most recent call last)",
      "Cell \u001b[1;32mIn [12], line 1\u001b[0m\n\u001b[1;32m----> 1\u001b[0m \u001b[43ms\u001b[49m\u001b[38;5;241m!=\u001b[39m\u001b[38;5;241m2\u001b[39m\n",
      "\u001b[1;31mNameError\u001b[0m: name 's' is not defined"
     ]
    }
   ],
   "source": [
    "s!=2"
   ]
  },
  {
   "cell_type": "code",
   "execution_count": 13,
   "id": "7a501c43",
   "metadata": {},
   "outputs": [],
   "source": [
    "a=5"
   ]
  },
  {
   "cell_type": "code",
   "execution_count": null,
   "id": "b7e2668f",
   "metadata": {},
   "outputs": [],
   "source": []
  }
 ],
 "metadata": {
  "kernelspec": {
   "display_name": "Python 3 (ipykernel)",
   "language": "python",
   "name": "python3"
  },
  "language_info": {
   "codemirror_mode": {
    "name": "ipython",
    "version": 3
   },
   "file_extension": ".py",
   "mimetype": "text/x-python",
   "name": "python",
   "nbconvert_exporter": "python",
   "pygments_lexer": "ipython3",
   "version": "3.10.8"
  }
 },
 "nbformat": 4,
 "nbformat_minor": 5
}
