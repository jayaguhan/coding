{
 "cells": [
  {
   "cell_type": "code",
   "execution_count": 1,
   "id": "d5083ab7",
   "metadata": {},
   "outputs": [
    {
     "ename": "ERROR",
     "evalue": "Error in input(\"enter time\"): could not find function \"input\"\n",
     "output_type": "error",
     "traceback": [
      "Error in input(\"enter time\"): could not find function \"input\"\nTraceback:\n"
     ]
    }
   ],
   "source": [
    "timenow=input(\"enter time\")"
   ]
  },
  {
   "cell_type": "code",
   "execution_count": null,
   "id": "4418ff49",
   "metadata": {},
   "outputs": [],
   "source": [
    "\n"
   ]
  },
  {
   "cell_type": "code",
   "execution_count": null,
   "id": "ea2d21de",
   "metadata": {},
   "outputs": [],
   "source": []
  },
  {
   "cell_type": "code",
   "execution_count": null,
   "id": "7b5bb3da",
   "metadata": {},
   "outputs": [],
   "source": []
  }
 ],
 "metadata": {
  "kernelspec": {
   "display_name": "R",
   "language": "R",
   "name": "ir"
  },
  "language_info": {
   "codemirror_mode": "r",
   "file_extension": ".r",
   "mimetype": "text/x-r-source",
   "name": "R",
   "pygments_lexer": "r",
   "version": "3.6.1"
  }
 },
 "nbformat": 4,
 "nbformat_minor": 5
}
