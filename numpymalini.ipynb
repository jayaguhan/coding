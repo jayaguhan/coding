{
 "cells": [
  {
   "cell_type": "code",
   "execution_count": 1,
   "id": "3cd107de",
   "metadata": {},
   "outputs": [
    {
     "ename": "ModuleNotFoundError",
     "evalue": "No module named 'numpy'",
     "output_type": "error",
     "traceback": [
      "\u001b[1;31m---------------------------------------------------------------------------\u001b[0m",
      "\u001b[1;31mModuleNotFoundError\u001b[0m                       Traceback (most recent call last)",
      "Cell \u001b[1;32mIn [1], line 1\u001b[0m\n\u001b[1;32m----> 1\u001b[0m \u001b[38;5;28;01mimport\u001b[39;00m \u001b[38;5;21;01mnumpy\u001b[39;00m\n",
      "\u001b[1;31mModuleNotFoundError\u001b[0m: No module named 'numpy'"
     ]
    }
   ],
   "source": [
    "import numpy"
   ]
  },
  {
   "cell_type": "code",
   "execution_count": 2,
   "id": "26466fbc",
   "metadata": {},
   "outputs": [],
   "source": [
    " import numpy"
   ]
  },
  {
   "cell_type": "code",
   "execution_count": 4,
   "id": "60086f9a",
   "metadata": {},
   "outputs": [],
   "source": [
    "import numpy as jey"
   ]
  },
  {
   "cell_type": "code",
   "execution_count": 5,
   "id": "d0a6f173",
   "metadata": {},
   "outputs": [],
   "source": [
    "a=jey.array([1,2,3])"
   ]
  },
  {
   "cell_type": "code",
   "execution_count": 6,
   "id": "644202ae",
   "metadata": {},
   "outputs": [
    {
     "name": "stdout",
     "output_type": "stream",
     "text": [
      "[1 2 3]\n"
     ]
    }
   ],
   "source": [
    "print(a)"
   ]
  },
  {
   "cell_type": "code",
   "execution_count": 7,
   "id": "fb249bb6",
   "metadata": {},
   "outputs": [],
   "source": [
    "c=jey.array([(1,2,3),(4,5,6)])"
   ]
  },
  {
   "cell_type": "code",
   "execution_count": 8,
   "id": "c9761f44",
   "metadata": {},
   "outputs": [
    {
     "name": "stdout",
     "output_type": "stream",
     "text": [
      "[[1 2 3]\n",
      " [4 5 6]]\n"
     ]
    }
   ],
   "source": [
    "print(c)"
   ]
  },
  {
   "cell_type": "code",
   "execution_count": 11,
   "id": "c538e3d7",
   "metadata": {},
   "outputs": [],
   "source": [
    "trans=jey.transpose(c)"
   ]
  },
  {
   "cell_type": "code",
   "execution_count": 12,
   "id": "a8633b5e",
   "metadata": {},
   "outputs": [
    {
     "name": "stdout",
     "output_type": "stream",
     "text": [
      "[[1 4]\n",
      " [2 5]\n",
      " [3 6]]\n"
     ]
    }
   ],
   "source": [
    "print(trans)"
   ]
  },
  {
   "cell_type": "code",
   "execution_count": 13,
   "id": "2734a0a2",
   "metadata": {},
   "outputs": [
    {
     "data": {
      "text/plain": [
       "array([1, 4, 2, 5, 3, 6])"
      ]
     },
     "execution_count": 13,
     "metadata": {},
     "output_type": "execute_result"
    }
   ],
   "source": [
    "trans.ravel()"
   ]
  },
  {
   "cell_type": "code",
   "execution_count": 19,
   "id": "89e4349b",
   "metadata": {},
   "outputs": [
    {
     "data": {
      "text/plain": [
       "array([[1],\n",
       "       [2],\n",
       "       [3],\n",
       "       [4],\n",
       "       [5],\n",
       "       [6]])"
      ]
     },
     "execution_count": 19,
     "metadata": {},
     "output_type": "execute_result"
    }
   ],
   "source": [
    "c.reshape(6,1)"
   ]
  },
  {
   "cell_type": "code",
   "execution_count": 17,
   "id": "5575ab34",
   "metadata": {},
   "outputs": [],
   "source": [
    "ze=jey.zeros((1,3))"
   ]
  },
  {
   "cell_type": "code",
   "execution_count": 18,
   "id": "ef9ee217",
   "metadata": {},
   "outputs": [
    {
     "name": "stdout",
     "output_type": "stream",
     "text": [
      "[[0. 0. 0.]]\n"
     ]
    }
   ],
   "source": [
    "print(ze)"
   ]
  },
  {
   "cell_type": "code",
   "execution_count": 20,
   "id": "85f64cfc",
   "metadata": {},
   "outputs": [],
   "source": [
    "one=jey.ones((3,3))"
   ]
  },
  {
   "cell_type": "code",
   "execution_count": 21,
   "id": "5fe29aed",
   "metadata": {},
   "outputs": [
    {
     "name": "stdout",
     "output_type": "stream",
     "text": [
      "[[1. 1. 1.]\n",
      " [1. 1. 1.]\n",
      " [1. 1. 1.]]\n"
     ]
    }
   ],
   "source": [
    "print(one)"
   ]
  },
  {
   "cell_type": "code",
   "execution_count": 22,
   "id": "436d8903",
   "metadata": {},
   "outputs": [
    {
     "data": {
      "text/plain": [
       "array([[0.48417208, 0.86914794, 0.15859825, 0.47419113, 0.23781876],\n",
       "       [0.88717129, 0.42359851, 0.05761759, 0.82818813, 0.0693273 ],\n",
       "       [0.18336472, 0.33158236, 0.99894934, 0.10195927, 0.98266218],\n",
       "       [0.66181225, 0.15379818, 0.10440494, 0.66924462, 0.07823065],\n",
       "       [0.90020708, 0.94045539, 0.86444027, 0.15918716, 0.60052399]])"
      ]
     },
     "execution_count": 22,
     "metadata": {},
     "output_type": "execute_result"
    }
   ],
   "source": [
    "jey.random.random((5,5))"
   ]
  },
  {
   "cell_type": "code",
   "execution_count": null,
   "id": "dd6c4081",
   "metadata": {},
   "outputs": [],
   "source": []
  }
 ],
 "metadata": {
  "kernelspec": {
   "display_name": "Python 3 (ipykernel)",
   "language": "python",
   "name": "python3"
  },
  "language_info": {
   "codemirror_mode": {
    "name": "ipython",
    "version": 3
   },
   "file_extension": ".py",
   "mimetype": "text/x-python",
   "name": "python",
   "nbconvert_exporter": "python",
   "pygments_lexer": "ipython3",
   "version": "3.10.8"
  }
 },
 "nbformat": 4,
 "nbformat_minor": 5
}
