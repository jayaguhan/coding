{
 "cells": [
  {
   "cell_type": "code",
   "execution_count": null,
   "id": "6c7e07cd",
   "metadata": {},
   "outputs": [],
   "source": [
    "TCS=int(input(\"enter total seat capacity:\"))\n",
    "counter=4\n",
    "while counter<=TCS/5:\n",
    "    print(f\"your journey is not confrimed\")\n",
    "    print(f\"only(counter)tickets booked\")\n",
    "    counter+=4\n",
    "    print(\"75% of the ticket filled.the journey confrimed\")"
   ]
  },
  {
   "cell_type": "code",
   "execution_count": null,
   "id": "0be6f2f7",
   "metadata": {},
   "outputs": [],
   "source": []
  },
  {
   "cell_type": "code",
   "execution_count": null,
   "id": "1ef53999",
   "metadata": {},
   "outputs": [],
   "source": [
    "limit=int(input(\"enter limit\"))\n",
    "count=3\n",
    "a=2\n",
    "b=4\n",
    "while count<=limit:\n",
    "    print(a)\n",
    "    print(b)\n",
    "    c=a+b\n",
    "    print(c)\n",
    "    count+=3\n",
    "    a=b\n",
    "    b=c"
   ]
  },
  {
   "cell_type": "code",
   "execution_count": null,
   "id": "175003bb",
   "metadata": {},
   "outputs": [],
   "source": [
    "def fibnac(\"limit\"):\n",
    "  count=0\n",
    "  a=2\n",
    "  b=4\n",
    "    print(a)\n",
    "    print(b)\n",
    "while count<=limit:\n",
    "    c=a+b\n",
    "    print(c)\n",
    "    count+=1\n",
    "    a=b\n",
    "    b=c"
   ]
  },
  {
   "cell_type": "code",
   "execution_count": null,
   "id": "5d7bb029",
   "metadata": {},
   "outputs": [],
   "source": [
    "def addition(a,b):\n",
    "    c=a+b\n",
    "    print(c)\n"
   ]
  },
  {
   "cell_type": "code",
   "execution_count": null,
   "id": "d2cbd55c",
   "metadata": {},
   "outputs": [],
   "source": [
    "addition(6,5)"
   ]
  },
  {
   "cell_type": "code",
   "execution_count": null,
   "id": "a8859f37",
   "metadata": {},
   "outputs": [],
   "source": []
  },
  {
   "cell_type": "code",
   "execution_count": null,
   "id": "7208f1d0",
   "metadata": {},
   "outputs": [],
   "source": []
  }
 ],
 "metadata": {
  "kernelspec": {
   "display_name": "Python 3 (ipykernel)",
   "language": "python",
   "name": "python3"
  },
  "language_info": {
   "codemirror_mode": {
    "name": "ipython",
    "version": 3
   },
   "file_extension": ".py",
   "mimetype": "text/x-python",
   "name": "python",
   "nbconvert_exporter": "python",
   "pygments_lexer": "ipython3",
   "version": "3.10.8"
  }
 },
 "nbformat": 4,
 "nbformat_minor": 5
}
