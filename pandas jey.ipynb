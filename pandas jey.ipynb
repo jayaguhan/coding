{
 "cells": [
  {
   "cell_type": "code",
   "execution_count": 1,
   "id": "34523fe4",
   "metadata": {},
   "outputs": [
    {
     "name": "stdout",
     "output_type": "stream",
     "text": [
      "Requirement already satisfied: pandas in c:\\users\\admin\\.conda\\envs\\malini\\lib\\site-packages (1.5.2)\n",
      "Requirement already satisfied: python-dateutil>=2.8.1 in c:\\users\\admin\\.conda\\envs\\malini\\lib\\site-packages (from pandas) (2.8.2)\n",
      "Requirement already satisfied: pytz>=2020.1 in c:\\users\\admin\\.conda\\envs\\malini\\lib\\site-packages (from pandas) (2022.6)\n",
      "Requirement already satisfied: numpy>=1.21.0 in c:\\users\\admin\\.conda\\envs\\malini\\lib\\site-packages (from pandas) (1.23.5)\n",
      "Requirement already satisfied: six>=1.5 in c:\\users\\admin\\.conda\\envs\\malini\\lib\\site-packages (from python-dateutil>=2.8.1->pandas) (1.16.0)\n",
      "Note: you may need to restart the kernel to use updated packages.\n"
     ]
    }
   ],
   "source": [
    "pip install pandas"
   ]
  },
  {
   "cell_type": "code",
   "execution_count": 1,
   "id": "7662286a",
   "metadata": {},
   "outputs": [],
   "source": [
    "import pandas as jaya"
   ]
  },
  {
   "cell_type": "code",
   "execution_count": 2,
   "id": "5935fc00",
   "metadata": {},
   "outputs": [
    {
     "data": {
      "text/plain": [
       "'1.5.2'"
      ]
     },
     "execution_count": 2,
     "metadata": {},
     "output_type": "execute_result"
    }
   ],
   "source": [
    "jaya.__version__"
   ]
  },
  {
   "cell_type": "markdown",
   "id": "5af4a080",
   "metadata": {},
   "source": []
  },
  {
   "cell_type": "markdown",
   "id": "826ef9e9",
   "metadata": {},
   "source": []
  },
  {
   "cell_type": "code",
   "execution_count": 3,
   "id": "13c56fae",
   "metadata": {},
   "outputs": [],
   "source": [
    "a1=jaya.Series(['one',2,3,4,5],index=[0,1,2,3,4])"
   ]
  },
  {
   "cell_type": "code",
   "execution_count": 4,
   "id": "6bc9c746",
   "metadata": {},
   "outputs": [
    {
     "name": "stdout",
     "output_type": "stream",
     "text": [
      "0    one\n",
      "1      2\n",
      "2      3\n",
      "3      4\n",
      "4      5\n",
      "dtype: object\n"
     ]
    }
   ],
   "source": [
    "print(a1)"
   ]
  },
  {
   "cell_type": "code",
   "execution_count": 5,
   "id": "cebaf05c",
   "metadata": {},
   "outputs": [],
   "source": [
    "season={\"rainy\":{1:'nov',2:'dec',3:'jan',4:'feb'},\"dry\":{1:'mar',2:'apr',3:'may',4:'june'}}"
   ]
  },
  {
   "cell_type": "code",
   "execution_count": 7,
   "id": "868dc786",
   "metadata": {},
   "outputs": [],
   "source": [
    "d=jaya.DataFrame(season,columns=[\"rainy\",\"dry\"])"
   ]
  },
  {
   "cell_type": "code",
   "execution_count": 18,
   "id": "8da7b229",
   "metadata": {},
   "outputs": [
    {
     "data": {
      "text/html": [
       "<div>\n",
       "<style scoped>\n",
       "    .dataframe tbody tr th:only-of-type {\n",
       "        vertical-align: middle;\n",
       "    }\n",
       "\n",
       "    .dataframe tbody tr th {\n",
       "        vertical-align: top;\n",
       "    }\n",
       "\n",
       "    .dataframe thead th {\n",
       "        text-align: right;\n",
       "    }\n",
       "</style>\n",
       "<table border=\"1\" class=\"dataframe\">\n",
       "  <thead>\n",
       "    <tr style=\"text-align: right;\">\n",
       "      <th></th>\n",
       "      <th>rainy</th>\n",
       "      <th>dry</th>\n",
       "    </tr>\n",
       "  </thead>\n",
       "  <tbody>\n",
       "    <tr>\n",
       "      <th>1</th>\n",
       "      <td>nov</td>\n",
       "      <td>mar</td>\n",
       "    </tr>\n",
       "    <tr>\n",
       "      <th>2</th>\n",
       "      <td>dec</td>\n",
       "      <td>apr</td>\n",
       "    </tr>\n",
       "    <tr>\n",
       "      <th>3</th>\n",
       "      <td>jan</td>\n",
       "      <td>may</td>\n",
       "    </tr>\n",
       "    <tr>\n",
       "      <th>4</th>\n",
       "      <td>feb</td>\n",
       "      <td>june</td>\n",
       "    </tr>\n",
       "  </tbody>\n",
       "</table>\n",
       "</div>"
      ],
      "text/plain": [
       "  rainy   dry\n",
       "1   nov   mar\n",
       "2   dec   apr\n",
       "3   jan   may\n",
       "4   feb  june"
      ]
     },
     "execution_count": 18,
     "metadata": {},
     "output_type": "execute_result"
    }
   ],
   "source": [
    "d"
   ]
  },
  {
   "cell_type": "code",
   "execution_count": 29,
   "id": "dea51439",
   "metadata": {},
   "outputs": [],
   "source": [
    "import numpy as jey"
   ]
  },
  {
   "cell_type": "code",
   "execution_count": 30,
   "id": "74d4b52a",
   "metadata": {},
   "outputs": [],
   "source": [
    "a=jaya.DataFrame(jey.random.randint(0,300,size=(12,6)),columns=list(('abcdef')))"
   ]
  },
  {
   "cell_type": "code",
   "execution_count": 31,
   "id": "ecadbeb8",
   "metadata": {
    "scrolled": true
   },
   "outputs": [
    {
     "name": "stdout",
     "output_type": "stream",
     "text": [
      "      a    b    c    d    e    f\n",
      "0   156  189   73  188  116   23\n",
      "1    97   54   41  283  296   98\n",
      "2   250  259  153  234  191  284\n",
      "3   297   63  158  173  137  231\n",
      "4   176  157  235   21   80  171\n",
      "5   246   41  247  251  185  267\n",
      "6    61  139   19   59   73  177\n",
      "7   265  118  164  206  138  137\n",
      "8    56   28  169   81   63  103\n",
      "9     5   53  110  242  198  222\n",
      "10  233  243   41  165  180  271\n",
      "11  177   32  274  265   40  215\n"
     ]
    }
   ],
   "source": [
    "print(a)"
   ]
  },
  {
   "cell_type": "code",
   "execution_count": 32,
   "id": "0cc2b20c",
   "metadata": {},
   "outputs": [],
   "source": [
    "a.to_csv(\"D:\\jaya.csv\")"
   ]
  },
  {
   "cell_type": "code",
   "execution_count": 44,
   "id": "95a0c3e6",
   "metadata": {},
   "outputs": [],
   "source": [
    "a.to_csv(\"D:\\jaya.csv\")"
   ]
  },
  {
   "cell_type": "code",
   "execution_count": 46,
   "id": "b3f6c041",
   "metadata": {},
   "outputs": [],
   "source": [
    "d=jaya.read_csv(\"D:\\jaya.csv\")"
   ]
  },
  {
   "cell_type": "code",
   "execution_count": 47,
   "id": "db92b46e",
   "metadata": {},
   "outputs": [
    {
     "name": "stdout",
     "output_type": "stream",
     "text": [
      "    Unnamed: 0    a    b    c    d    e    f\n",
      "0            0  156  189   73  188  116   23\n",
      "1            1   97   54   41  283  296   98\n",
      "2            2  250  259  153  234  191  284\n",
      "3            3  297   63  158  173  137  231\n",
      "4            4  176  157  235   21   80  171\n",
      "5            5  246   41  247  251  185  267\n",
      "6            6   61  139   19   59   73  177\n",
      "7            7  265  118  164  206  138  137\n",
      "8            8   56   28  169   81   63  103\n",
      "9            9    5   53  110  242  198  222\n",
      "10          10  233  243   41  165  180  271\n",
      "11          11  177   32  274  265   40  215\n"
     ]
    }
   ],
   "source": [
    "print(d)"
   ]
  },
  {
   "cell_type": "code",
   "execution_count": 49,
   "id": "44adde72",
   "metadata": {},
   "outputs": [
    {
     "data": {
      "text/html": [
       "<div>\n",
       "<style scoped>\n",
       "    .dataframe tbody tr th:only-of-type {\n",
       "        vertical-align: middle;\n",
       "    }\n",
       "\n",
       "    .dataframe tbody tr th {\n",
       "        vertical-align: top;\n",
       "    }\n",
       "\n",
       "    .dataframe thead th {\n",
       "        text-align: right;\n",
       "    }\n",
       "</style>\n",
       "<table border=\"1\" class=\"dataframe\">\n",
       "  <thead>\n",
       "    <tr style=\"text-align: right;\">\n",
       "      <th></th>\n",
       "      <th>a</th>\n",
       "      <th>b</th>\n",
       "      <th>c</th>\n",
       "      <th>d</th>\n",
       "      <th>e</th>\n",
       "      <th>f</th>\n",
       "    </tr>\n",
       "  </thead>\n",
       "  <tbody>\n",
       "    <tr>\n",
       "      <th>0</th>\n",
       "      <td>156</td>\n",
       "      <td>189</td>\n",
       "      <td>73</td>\n",
       "      <td>188</td>\n",
       "      <td>116</td>\n",
       "      <td>23</td>\n",
       "    </tr>\n",
       "    <tr>\n",
       "      <th>1</th>\n",
       "      <td>97</td>\n",
       "      <td>54</td>\n",
       "      <td>41</td>\n",
       "      <td>283</td>\n",
       "      <td>296</td>\n",
       "      <td>98</td>\n",
       "    </tr>\n",
       "    <tr>\n",
       "      <th>2</th>\n",
       "      <td>250</td>\n",
       "      <td>259</td>\n",
       "      <td>153</td>\n",
       "      <td>234</td>\n",
       "      <td>191</td>\n",
       "      <td>284</td>\n",
       "    </tr>\n",
       "    <tr>\n",
       "      <th>3</th>\n",
       "      <td>297</td>\n",
       "      <td>63</td>\n",
       "      <td>158</td>\n",
       "      <td>173</td>\n",
       "      <td>137</td>\n",
       "      <td>231</td>\n",
       "    </tr>\n",
       "    <tr>\n",
       "      <th>4</th>\n",
       "      <td>176</td>\n",
       "      <td>157</td>\n",
       "      <td>235</td>\n",
       "      <td>21</td>\n",
       "      <td>80</td>\n",
       "      <td>171</td>\n",
       "    </tr>\n",
       "    <tr>\n",
       "      <th>5</th>\n",
       "      <td>246</td>\n",
       "      <td>41</td>\n",
       "      <td>247</td>\n",
       "      <td>251</td>\n",
       "      <td>185</td>\n",
       "      <td>267</td>\n",
       "    </tr>\n",
       "    <tr>\n",
       "      <th>6</th>\n",
       "      <td>61</td>\n",
       "      <td>139</td>\n",
       "      <td>19</td>\n",
       "      <td>59</td>\n",
       "      <td>73</td>\n",
       "      <td>177</td>\n",
       "    </tr>\n",
       "    <tr>\n",
       "      <th>7</th>\n",
       "      <td>265</td>\n",
       "      <td>118</td>\n",
       "      <td>164</td>\n",
       "      <td>206</td>\n",
       "      <td>138</td>\n",
       "      <td>137</td>\n",
       "    </tr>\n",
       "    <tr>\n",
       "      <th>8</th>\n",
       "      <td>56</td>\n",
       "      <td>28</td>\n",
       "      <td>169</td>\n",
       "      <td>81</td>\n",
       "      <td>63</td>\n",
       "      <td>103</td>\n",
       "    </tr>\n",
       "    <tr>\n",
       "      <th>9</th>\n",
       "      <td>5</td>\n",
       "      <td>53</td>\n",
       "      <td>110</td>\n",
       "      <td>242</td>\n",
       "      <td>198</td>\n",
       "      <td>222</td>\n",
       "    </tr>\n",
       "    <tr>\n",
       "      <th>10</th>\n",
       "      <td>233</td>\n",
       "      <td>243</td>\n",
       "      <td>41</td>\n",
       "      <td>165</td>\n",
       "      <td>180</td>\n",
       "      <td>271</td>\n",
       "    </tr>\n",
       "    <tr>\n",
       "      <th>11</th>\n",
       "      <td>177</td>\n",
       "      <td>32</td>\n",
       "      <td>274</td>\n",
       "      <td>265</td>\n",
       "      <td>40</td>\n",
       "      <td>215</td>\n",
       "    </tr>\n",
       "  </tbody>\n",
       "</table>\n",
       "</div>"
      ],
      "text/plain": [
       "      a    b    c    d    e    f\n",
       "0   156  189   73  188  116   23\n",
       "1    97   54   41  283  296   98\n",
       "2   250  259  153  234  191  284\n",
       "3   297   63  158  173  137  231\n",
       "4   176  157  235   21   80  171\n",
       "5   246   41  247  251  185  267\n",
       "6    61  139   19   59   73  177\n",
       "7   265  118  164  206  138  137\n",
       "8    56   28  169   81   63  103\n",
       "9     5   53  110  242  198  222\n",
       "10  233  243   41  165  180  271\n",
       "11  177   32  274  265   40  215"
      ]
     },
     "execution_count": 49,
     "metadata": {},
     "output_type": "execute_result"
    }
   ],
   "source": [
    "d.drop(\"Unnamed: 0\",axis=1)"
   ]
  },
  {
   "cell_type": "code",
   "execution_count": 50,
   "id": "f1c560b0",
   "metadata": {},
   "outputs": [
    {
     "data": {
      "text/plain": [
       "(12, 7)"
      ]
     },
     "execution_count": 50,
     "metadata": {},
     "output_type": "execute_result"
    }
   ],
   "source": [
    "d.shape"
   ]
  },
  {
   "cell_type": "code",
   "execution_count": 51,
   "id": "9f97c678",
   "metadata": {},
   "outputs": [
    {
     "name": "stdout",
     "output_type": "stream",
     "text": [
      "<class 'pandas.core.frame.DataFrame'>\n",
      "RangeIndex: 12 entries, 0 to 11\n",
      "Data columns (total 7 columns):\n",
      " #   Column      Non-Null Count  Dtype\n",
      "---  ------      --------------  -----\n",
      " 0   Unnamed: 0  12 non-null     int64\n",
      " 1   a           12 non-null     int64\n",
      " 2   b           12 non-null     int64\n",
      " 3   c           12 non-null     int64\n",
      " 4   d           12 non-null     int64\n",
      " 5   e           12 non-null     int64\n",
      " 6   f           12 non-null     int64\n",
      "dtypes: int64(7)\n",
      "memory usage: 800.0 bytes\n"
     ]
    }
   ],
   "source": [
    "d.info()"
   ]
  },
  {
   "cell_type": "code",
   "execution_count": null,
   "id": "c84fcf42",
   "metadata": {},
   "outputs": [],
   "source": []
  }
 ],
 "metadata": {
  "kernelspec": {
   "display_name": "Python 3 (ipykernel)",
   "language": "python",
   "name": "python3"
  },
  "language_info": {
   "codemirror_mode": {
    "name": "ipython",
    "version": 3
   },
   "file_extension": ".py",
   "mimetype": "text/x-python",
   "name": "python",
   "nbconvert_exporter": "python",
   "pygments_lexer": "ipython3",
   "version": "3.10.8"
  }
 },
 "nbformat": 4,
 "nbformat_minor": 5
}
